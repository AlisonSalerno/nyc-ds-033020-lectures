{
 "cells": [
  {
   "cell_type": "code",
   "execution_count": null,
   "metadata": {},
   "outputs": [],
   "source": [
    "#Yelp\n",
    "\n",
    "#Client ID\n",
    "#zeqH9imxF5PqY_0x0vOpxQ\n",
    "\n",
    "#API Key\n",
    "#l6DUOcw3_ao0vYc7_9xinG-koULX-eLNq8Y8DP0FhvEd6f3w5iSQM7hSJMiezPVyCGGHExcQASSu7A6mWFSybV1wu8T3A9fOL5iMHUdKwrwYA2G4-ii6vktAEZWPXnYx"
   ]
  }
 ],
 "metadata": {
  "kernelspec": {
   "display_name": "Python 3",
   "language": "python",
   "name": "python3"
  },
  "language_info": {
   "codemirror_mode": {
    "name": "ipython",
    "version": 3
   },
   "file_extension": ".py",
   "mimetype": "text/x-python",
   "name": "python",
   "nbconvert_exporter": "python",
   "pygments_lexer": "ipython3",
   "version": "3.7.4"
  }
 },
 "nbformat": 4,
 "nbformat_minor": 2
}
