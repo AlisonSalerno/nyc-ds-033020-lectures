{
 "cells": [
  {
   "cell_type": "code",
   "execution_count": 1,
   "metadata": {},
   "outputs": [
    {
     "name": "stderr",
     "output_type": "stream",
     "text": [
      "/Users/judebuenaseda/.pyenv/versions/3.8.2/lib/python3.8/site-packages/pandas/compat/__init__.py:117: UserWarning: Could not import the lzma module. Your installed Python is incomplete. Attempting to use lzma compression will result in a RuntimeError.\n",
      "  warnings.warn(msg)\n"
     ]
    }
   ],
   "source": [
    "import pandas as pd\n",
    "import numpy as np\n",
    "\n",
    "from sklearn.preprocessing import StandardScaler\n",
    "from sklearn.decomposition import PCA\n",
    "\n",
    "from sklearn.linear_model import LogisticRegression\n",
    "\n",
    "from sklearn.model_selection import train_test_split\n",
    "\n",
    "from sklearn.metrics import accuracy_score\n",
    "\n",
    "import matplotlib.pyplot as plt\n",
    "import seaborn as sns"
   ]
  },
  {
   "cell_type": "code",
   "execution_count": 58,
   "metadata": {},
   "outputs": [],
   "source": [
    "df = pd.read_csv('Cleaned_fifa_data.csv', index_col = 0)"
   ]
  },
  {
   "cell_type": "markdown",
   "metadata": {},
   "source": [
    "### PCA\n",
    "- Overall intuition of PCA\n",
    "\n",
    "- What is PCA good for? Advantages of PCA\n",
    "\n",
    "- Using and building PCA in sklearn\n",
    "\n",
    "\n",
    "### Clustering\n",
    "- K-means clustering details - what are the step by step process of building a K-means model?\n",
    "\n",
    "- Building K-means model in sklearn\n",
    "\n",
    "- Evaluating clustering (what are some metrics?)\n",
    "\n",
    "\n",
    "### Natural Language Processing\n",
    "- What is tfidf?\n",
    "\n",
    "- How to feature engineer in sklearn for text data?\n",
    "\n",
    "- Use naive bayes to make classification on engineered text features"
   ]
  },
  {
   "cell_type": "markdown",
   "metadata": {},
   "source": [
    "# PCA\n",
    "\n",
    "## Overall intuition \n",
    "\n",
    "#### Takes features of the data and generates eigenvectors and eigenvalues from the covairance matrix. And based on how much of the data is explained by our principal components they can replace the features in the data to reduce the dimensionality\n",
    "\n",
    "## What is it good for? Advantages of PCA\n",
    "\n",
    "#### Creates a simpler model by reducing dimentionality, it makes the model easier to understand and explain with less features using structural loadings. "
   ]
  },
  {
   "cell_type": "code",
   "execution_count": null,
   "metadata": {},
   "outputs": [],
   "source": []
  },
  {
   "cell_type": "markdown",
   "metadata": {},
   "source": [
    "## Using PCA"
   ]
  },
  {
   "cell_type": "code",
   "execution_count": 59,
   "metadata": {},
   "outputs": [],
   "source": [
    "X = df.drop(columns = 'Overall')\n",
    "y = df.Overall"
   ]
  },
  {
   "cell_type": "code",
   "execution_count": 47,
   "metadata": {},
   "outputs": [],
   "source": [
    "X = StandardScaler().fit_transform(X)"
   ]
  },
  {
   "cell_type": "code",
   "execution_count": 48,
   "metadata": {},
   "outputs": [],
   "source": [
    "pca = PCA()\n",
    "principalComponents = pca.fit_transform(X)\n",
    "principalDf = pd.DataFrame(data = principalComponents)"
   ]
  },
  {
   "cell_type": "code",
   "execution_count": 6,
   "metadata": {},
   "outputs": [
    {
     "data": {
      "text/html": [
       "<div>\n",
       "<style scoped>\n",
       "    .dataframe tbody tr th:only-of-type {\n",
       "        vertical-align: middle;\n",
       "    }\n",
       "\n",
       "    .dataframe tbody tr th {\n",
       "        vertical-align: top;\n",
       "    }\n",
       "\n",
       "    .dataframe thead th {\n",
       "        text-align: right;\n",
       "    }\n",
       "</style>\n",
       "<table border=\"1\" class=\"dataframe\">\n",
       "  <thead>\n",
       "    <tr style=\"text-align: right;\">\n",
       "      <th></th>\n",
       "      <th>0</th>\n",
       "      <th>1</th>\n",
       "      <th>2</th>\n",
       "      <th>3</th>\n",
       "      <th>4</th>\n",
       "      <th>5</th>\n",
       "      <th>6</th>\n",
       "      <th>7</th>\n",
       "      <th>8</th>\n",
       "      <th>9</th>\n",
       "      <th>...</th>\n",
       "      <th>34</th>\n",
       "      <th>35</th>\n",
       "      <th>36</th>\n",
       "      <th>37</th>\n",
       "      <th>38</th>\n",
       "      <th>39</th>\n",
       "      <th>40</th>\n",
       "      <th>41</th>\n",
       "      <th>42</th>\n",
       "      <th>43</th>\n",
       "    </tr>\n",
       "  </thead>\n",
       "  <tbody>\n",
       "    <tr>\n",
       "      <th>0</th>\n",
       "      <td>-11.102406</td>\n",
       "      <td>-3.351946</td>\n",
       "      <td>13.946258</td>\n",
       "      <td>-5.287466</td>\n",
       "      <td>6.352366</td>\n",
       "      <td>8.345955</td>\n",
       "      <td>15.285229</td>\n",
       "      <td>-2.674816</td>\n",
       "      <td>0.099073</td>\n",
       "      <td>2.102636</td>\n",
       "      <td>...</td>\n",
       "      <td>-0.275505</td>\n",
       "      <td>0.521389</td>\n",
       "      <td>-0.205379</td>\n",
       "      <td>-0.292562</td>\n",
       "      <td>-0.024781</td>\n",
       "      <td>-0.347596</td>\n",
       "      <td>-0.148520</td>\n",
       "      <td>0.052027</td>\n",
       "      <td>0.007907</td>\n",
       "      <td>0.000017</td>\n",
       "    </tr>\n",
       "    <tr>\n",
       "      <th>1</th>\n",
       "      <td>-10.317006</td>\n",
       "      <td>-1.134406</td>\n",
       "      <td>13.229911</td>\n",
       "      <td>-1.510236</td>\n",
       "      <td>7.235912</td>\n",
       "      <td>5.468038</td>\n",
       "      <td>11.410526</td>\n",
       "      <td>-1.891569</td>\n",
       "      <td>0.175934</td>\n",
       "      <td>1.520067</td>\n",
       "      <td>...</td>\n",
       "      <td>0.015299</td>\n",
       "      <td>0.399413</td>\n",
       "      <td>-0.137535</td>\n",
       "      <td>-0.256930</td>\n",
       "      <td>0.241534</td>\n",
       "      <td>-0.229444</td>\n",
       "      <td>-0.146959</td>\n",
       "      <td>0.135018</td>\n",
       "      <td>0.153922</td>\n",
       "      <td>0.000210</td>\n",
       "    </tr>\n",
       "    <tr>\n",
       "      <th>2</th>\n",
       "      <td>-9.944877</td>\n",
       "      <td>-3.964188</td>\n",
       "      <td>9.794007</td>\n",
       "      <td>-3.654410</td>\n",
       "      <td>3.847322</td>\n",
       "      <td>5.334132</td>\n",
       "      <td>9.970832</td>\n",
       "      <td>-1.006981</td>\n",
       "      <td>1.648844</td>\n",
       "      <td>1.275134</td>\n",
       "      <td>...</td>\n",
       "      <td>0.007184</td>\n",
       "      <td>0.130495</td>\n",
       "      <td>-0.236712</td>\n",
       "      <td>-0.228868</td>\n",
       "      <td>0.087890</td>\n",
       "      <td>-0.182289</td>\n",
       "      <td>-0.295151</td>\n",
       "      <td>0.083968</td>\n",
       "      <td>-0.408570</td>\n",
       "      <td>-0.000052</td>\n",
       "    </tr>\n",
       "    <tr>\n",
       "      <th>3</th>\n",
       "      <td>7.500154</td>\n",
       "      <td>-0.404121</td>\n",
       "      <td>11.400309</td>\n",
       "      <td>-5.897020</td>\n",
       "      <td>4.322288</td>\n",
       "      <td>3.404846</td>\n",
       "      <td>7.133612</td>\n",
       "      <td>-2.300706</td>\n",
       "      <td>1.143214</td>\n",
       "      <td>0.641003</td>\n",
       "      <td>...</td>\n",
       "      <td>0.117706</td>\n",
       "      <td>-0.252066</td>\n",
       "      <td>0.080320</td>\n",
       "      <td>-0.104163</td>\n",
       "      <td>0.445276</td>\n",
       "      <td>0.073523</td>\n",
       "      <td>-0.133783</td>\n",
       "      <td>0.103737</td>\n",
       "      <td>0.233226</td>\n",
       "      <td>0.000285</td>\n",
       "    </tr>\n",
       "    <tr>\n",
       "      <th>4</th>\n",
       "      <td>-10.366917</td>\n",
       "      <td>-0.232431</td>\n",
       "      <td>10.235270</td>\n",
       "      <td>-3.728808</td>\n",
       "      <td>2.826677</td>\n",
       "      <td>5.547440</td>\n",
       "      <td>9.638523</td>\n",
       "      <td>-1.215923</td>\n",
       "      <td>2.118179</td>\n",
       "      <td>0.936575</td>\n",
       "      <td>...</td>\n",
       "      <td>0.070142</td>\n",
       "      <td>0.075352</td>\n",
       "      <td>0.073910</td>\n",
       "      <td>0.385747</td>\n",
       "      <td>0.052916</td>\n",
       "      <td>0.152373</td>\n",
       "      <td>0.069797</td>\n",
       "      <td>-0.059660</td>\n",
       "      <td>-0.002723</td>\n",
       "      <td>0.000107</td>\n",
       "    </tr>\n",
       "    <tr>\n",
       "      <th>...</th>\n",
       "      <td>...</td>\n",
       "      <td>...</td>\n",
       "      <td>...</td>\n",
       "      <td>...</td>\n",
       "      <td>...</td>\n",
       "      <td>...</td>\n",
       "      <td>...</td>\n",
       "      <td>...</td>\n",
       "      <td>...</td>\n",
       "      <td>...</td>\n",
       "      <td>...</td>\n",
       "      <td>...</td>\n",
       "      <td>...</td>\n",
       "      <td>...</td>\n",
       "      <td>...</td>\n",
       "      <td>...</td>\n",
       "      <td>...</td>\n",
       "      <td>...</td>\n",
       "      <td>...</td>\n",
       "      <td>...</td>\n",
       "      <td>...</td>\n",
       "    </tr>\n",
       "    <tr>\n",
       "      <th>16638</th>\n",
       "      <td>2.399182</td>\n",
       "      <td>-1.178304</td>\n",
       "      <td>-3.058184</td>\n",
       "      <td>-1.229595</td>\n",
       "      <td>-0.671560</td>\n",
       "      <td>2.030578</td>\n",
       "      <td>0.021455</td>\n",
       "      <td>0.462820</td>\n",
       "      <td>-1.671158</td>\n",
       "      <td>0.749211</td>\n",
       "      <td>...</td>\n",
       "      <td>0.155260</td>\n",
       "      <td>-0.026758</td>\n",
       "      <td>0.131257</td>\n",
       "      <td>0.140499</td>\n",
       "      <td>-0.108515</td>\n",
       "      <td>-0.028024</td>\n",
       "      <td>0.208661</td>\n",
       "      <td>-0.018903</td>\n",
       "      <td>-0.024401</td>\n",
       "      <td>-0.001330</td>\n",
       "    </tr>\n",
       "    <tr>\n",
       "      <th>16639</th>\n",
       "      <td>4.818801</td>\n",
       "      <td>-0.878878</td>\n",
       "      <td>-1.731584</td>\n",
       "      <td>3.588766</td>\n",
       "      <td>-0.332065</td>\n",
       "      <td>2.859012</td>\n",
       "      <td>0.021026</td>\n",
       "      <td>0.254893</td>\n",
       "      <td>-1.493046</td>\n",
       "      <td>0.649419</td>\n",
       "      <td>...</td>\n",
       "      <td>-0.063778</td>\n",
       "      <td>-0.034251</td>\n",
       "      <td>0.361689</td>\n",
       "      <td>-0.019544</td>\n",
       "      <td>-0.178077</td>\n",
       "      <td>0.236075</td>\n",
       "      <td>0.091433</td>\n",
       "      <td>0.092023</td>\n",
       "      <td>-0.253827</td>\n",
       "      <td>-0.001117</td>\n",
       "    </tr>\n",
       "    <tr>\n",
       "      <th>16640</th>\n",
       "      <td>2.903125</td>\n",
       "      <td>-3.595729</td>\n",
       "      <td>-3.095183</td>\n",
       "      <td>0.803307</td>\n",
       "      <td>0.905010</td>\n",
       "      <td>2.204880</td>\n",
       "      <td>0.321572</td>\n",
       "      <td>1.239249</td>\n",
       "      <td>-0.611871</td>\n",
       "      <td>0.713048</td>\n",
       "      <td>...</td>\n",
       "      <td>0.369336</td>\n",
       "      <td>0.267189</td>\n",
       "      <td>-0.063056</td>\n",
       "      <td>-0.104667</td>\n",
       "      <td>0.038424</td>\n",
       "      <td>0.199741</td>\n",
       "      <td>-0.117143</td>\n",
       "      <td>0.280030</td>\n",
       "      <td>0.048614</td>\n",
       "      <td>-0.001404</td>\n",
       "    </tr>\n",
       "    <tr>\n",
       "      <th>16641</th>\n",
       "      <td>2.881067</td>\n",
       "      <td>-3.318395</td>\n",
       "      <td>-3.232664</td>\n",
       "      <td>1.439010</td>\n",
       "      <td>-0.798542</td>\n",
       "      <td>2.860381</td>\n",
       "      <td>0.356931</td>\n",
       "      <td>0.773483</td>\n",
       "      <td>-0.230639</td>\n",
       "      <td>0.299162</td>\n",
       "      <td>...</td>\n",
       "      <td>-0.013140</td>\n",
       "      <td>-0.514463</td>\n",
       "      <td>-0.120334</td>\n",
       "      <td>-0.199403</td>\n",
       "      <td>0.142654</td>\n",
       "      <td>0.230562</td>\n",
       "      <td>-0.163421</td>\n",
       "      <td>-0.160728</td>\n",
       "      <td>-0.084768</td>\n",
       "      <td>-0.001455</td>\n",
       "    </tr>\n",
       "    <tr>\n",
       "      <th>16642</th>\n",
       "      <td>2.553712</td>\n",
       "      <td>0.054524</td>\n",
       "      <td>-2.126904</td>\n",
       "      <td>0.180558</td>\n",
       "      <td>0.071724</td>\n",
       "      <td>1.874791</td>\n",
       "      <td>-0.173776</td>\n",
       "      <td>0.627596</td>\n",
       "      <td>0.263689</td>\n",
       "      <td>0.136901</td>\n",
       "      <td>...</td>\n",
       "      <td>-0.138586</td>\n",
       "      <td>-0.157132</td>\n",
       "      <td>-0.025414</td>\n",
       "      <td>0.134252</td>\n",
       "      <td>0.248617</td>\n",
       "      <td>-0.227522</td>\n",
       "      <td>0.128185</td>\n",
       "      <td>-0.015226</td>\n",
       "      <td>-0.261043</td>\n",
       "      <td>0.057368</td>\n",
       "    </tr>\n",
       "  </tbody>\n",
       "</table>\n",
       "<p>16643 rows × 44 columns</p>\n",
       "</div>"
      ],
      "text/plain": [
       "              0         1          2         3         4         5   \\\n",
       "0     -11.102406 -3.351946  13.946258 -5.287466  6.352366  8.345955   \n",
       "1     -10.317006 -1.134406  13.229911 -1.510236  7.235912  5.468038   \n",
       "2      -9.944877 -3.964188   9.794007 -3.654410  3.847322  5.334132   \n",
       "3       7.500154 -0.404121  11.400309 -5.897020  4.322288  3.404846   \n",
       "4     -10.366917 -0.232431  10.235270 -3.728808  2.826677  5.547440   \n",
       "...          ...       ...        ...       ...       ...       ...   \n",
       "16638   2.399182 -1.178304  -3.058184 -1.229595 -0.671560  2.030578   \n",
       "16639   4.818801 -0.878878  -1.731584  3.588766 -0.332065  2.859012   \n",
       "16640   2.903125 -3.595729  -3.095183  0.803307  0.905010  2.204880   \n",
       "16641   2.881067 -3.318395  -3.232664  1.439010 -0.798542  2.860381   \n",
       "16642   2.553712  0.054524  -2.126904  0.180558  0.071724  1.874791   \n",
       "\n",
       "              6         7         8         9   ...        34        35  \\\n",
       "0      15.285229 -2.674816  0.099073  2.102636  ... -0.275505  0.521389   \n",
       "1      11.410526 -1.891569  0.175934  1.520067  ...  0.015299  0.399413   \n",
       "2       9.970832 -1.006981  1.648844  1.275134  ...  0.007184  0.130495   \n",
       "3       7.133612 -2.300706  1.143214  0.641003  ...  0.117706 -0.252066   \n",
       "4       9.638523 -1.215923  2.118179  0.936575  ...  0.070142  0.075352   \n",
       "...          ...       ...       ...       ...  ...       ...       ...   \n",
       "16638   0.021455  0.462820 -1.671158  0.749211  ...  0.155260 -0.026758   \n",
       "16639   0.021026  0.254893 -1.493046  0.649419  ... -0.063778 -0.034251   \n",
       "16640   0.321572  1.239249 -0.611871  0.713048  ...  0.369336  0.267189   \n",
       "16641   0.356931  0.773483 -0.230639  0.299162  ... -0.013140 -0.514463   \n",
       "16642  -0.173776  0.627596  0.263689  0.136901  ... -0.138586 -0.157132   \n",
       "\n",
       "             36        37        38        39        40        41        42  \\\n",
       "0     -0.205379 -0.292562 -0.024781 -0.347596 -0.148520  0.052027  0.007907   \n",
       "1     -0.137535 -0.256930  0.241534 -0.229444 -0.146959  0.135018  0.153922   \n",
       "2     -0.236712 -0.228868  0.087890 -0.182289 -0.295151  0.083968 -0.408570   \n",
       "3      0.080320 -0.104163  0.445276  0.073523 -0.133783  0.103737  0.233226   \n",
       "4      0.073910  0.385747  0.052916  0.152373  0.069797 -0.059660 -0.002723   \n",
       "...         ...       ...       ...       ...       ...       ...       ...   \n",
       "16638  0.131257  0.140499 -0.108515 -0.028024  0.208661 -0.018903 -0.024401   \n",
       "16639  0.361689 -0.019544 -0.178077  0.236075  0.091433  0.092023 -0.253827   \n",
       "16640 -0.063056 -0.104667  0.038424  0.199741 -0.117143  0.280030  0.048614   \n",
       "16641 -0.120334 -0.199403  0.142654  0.230562 -0.163421 -0.160728 -0.084768   \n",
       "16642 -0.025414  0.134252  0.248617 -0.227522  0.128185 -0.015226 -0.261043   \n",
       "\n",
       "             43  \n",
       "0      0.000017  \n",
       "1      0.000210  \n",
       "2     -0.000052  \n",
       "3      0.000285  \n",
       "4      0.000107  \n",
       "...         ...  \n",
       "16638 -0.001330  \n",
       "16639 -0.001117  \n",
       "16640 -0.001404  \n",
       "16641 -0.001455  \n",
       "16642  0.057368  \n",
       "\n",
       "[16643 rows x 44 columns]"
      ]
     },
     "execution_count": 6,
     "metadata": {},
     "output_type": "execute_result"
    }
   ],
   "source": [
    "principalDf"
   ]
  },
  {
   "cell_type": "code",
   "execution_count": 7,
   "metadata": {},
   "outputs": [
    {
     "data": {
      "text/plain": [
       "Text(0, 0.5, 'proportion of explained variance')"
      ]
     },
     "execution_count": 7,
     "metadata": {},
     "output_type": "execute_result"
    },
    {
     "data": {
      "image/png": "[encoded data removed]",
      "text/plain": [
       "<Figure size 432x288 with 1 Axes>"
      ]
     },
     "metadata": {
      "needs_background": "light"
     },
     "output_type": "display_data"
    }
   ],
   "source": [
    "index = np.arange(44)\n",
    "plt.bar(index, pca.explained_variance_ratio_)\n",
    "plt.title('Scree plot for PCA')\n",
    "plt.xlabel('Num of components')\n",
    "plt.ylabel('proportion of explained variance')"
   ]
  },
  {
   "cell_type": "code",
   "execution_count": 8,
   "metadata": {},
   "outputs": [],
   "source": [
    "our_components = principalDf[[0,1,2,3,4,5]]"
   ]
  },
  {
   "cell_type": "code",
   "execution_count": 9,
   "metadata": {},
   "outputs": [
    {
     "data": {
      "text/html": [
       "<div>\n",
       "<style scoped>\n",
       "    .dataframe tbody tr th:only-of-type {\n",
       "        vertical-align: middle;\n",
       "    }\n",
       "\n",
       "    .dataframe tbody tr th {\n",
       "        vertical-align: top;\n",
       "    }\n",
       "\n",
       "    .dataframe thead th {\n",
       "        text-align: right;\n",
       "    }\n",
       "</style>\n",
       "<table border=\"1\" class=\"dataframe\">\n",
       "  <thead>\n",
       "    <tr style=\"text-align: right;\">\n",
       "      <th></th>\n",
       "      <th>0</th>\n",
       "      <th>1</th>\n",
       "      <th>2</th>\n",
       "      <th>3</th>\n",
       "      <th>4</th>\n",
       "      <th>5</th>\n",
       "    </tr>\n",
       "  </thead>\n",
       "  <tbody>\n",
       "    <tr>\n",
       "      <th>0</th>\n",
       "      <td>-11.102406</td>\n",
       "      <td>-3.351946</td>\n",
       "      <td>13.946258</td>\n",
       "      <td>-5.287466</td>\n",
       "      <td>6.352366</td>\n",
       "      <td>8.345955</td>\n",
       "    </tr>\n",
       "    <tr>\n",
       "      <th>1</th>\n",
       "      <td>-10.317006</td>\n",
       "      <td>-1.134406</td>\n",
       "      <td>13.229911</td>\n",
       "      <td>-1.510236</td>\n",
       "      <td>7.235912</td>\n",
       "      <td>5.468038</td>\n",
       "    </tr>\n",
       "    <tr>\n",
       "      <th>2</th>\n",
       "      <td>-9.944877</td>\n",
       "      <td>-3.964188</td>\n",
       "      <td>9.794007</td>\n",
       "      <td>-3.654410</td>\n",
       "      <td>3.847322</td>\n",
       "      <td>5.334132</td>\n",
       "    </tr>\n",
       "    <tr>\n",
       "      <th>3</th>\n",
       "      <td>7.500154</td>\n",
       "      <td>-0.404121</td>\n",
       "      <td>11.400309</td>\n",
       "      <td>-5.897020</td>\n",
       "      <td>4.322288</td>\n",
       "      <td>3.404846</td>\n",
       "    </tr>\n",
       "    <tr>\n",
       "      <th>4</th>\n",
       "      <td>-10.366917</td>\n",
       "      <td>-0.232431</td>\n",
       "      <td>10.235270</td>\n",
       "      <td>-3.728808</td>\n",
       "      <td>2.826677</td>\n",
       "      <td>5.547440</td>\n",
       "    </tr>\n",
       "    <tr>\n",
       "      <th>...</th>\n",
       "      <td>...</td>\n",
       "      <td>...</td>\n",
       "      <td>...</td>\n",
       "      <td>...</td>\n",
       "      <td>...</td>\n",
       "      <td>...</td>\n",
       "    </tr>\n",
       "    <tr>\n",
       "      <th>16638</th>\n",
       "      <td>2.399182</td>\n",
       "      <td>-1.178304</td>\n",
       "      <td>-3.058184</td>\n",
       "      <td>-1.229595</td>\n",
       "      <td>-0.671560</td>\n",
       "      <td>2.030578</td>\n",
       "    </tr>\n",
       "    <tr>\n",
       "      <th>16639</th>\n",
       "      <td>4.818801</td>\n",
       "      <td>-0.878878</td>\n",
       "      <td>-1.731584</td>\n",
       "      <td>3.588766</td>\n",
       "      <td>-0.332065</td>\n",
       "      <td>2.859012</td>\n",
       "    </tr>\n",
       "    <tr>\n",
       "      <th>16640</th>\n",
       "      <td>2.903125</td>\n",
       "      <td>-3.595729</td>\n",
       "      <td>-3.095183</td>\n",
       "      <td>0.803307</td>\n",
       "      <td>0.905010</td>\n",
       "      <td>2.204880</td>\n",
       "    </tr>\n",
       "    <tr>\n",
       "      <th>16641</th>\n",
       "      <td>2.881067</td>\n",
       "      <td>-3.318395</td>\n",
       "      <td>-3.232664</td>\n",
       "      <td>1.439010</td>\n",
       "      <td>-0.798542</td>\n",
       "      <td>2.860381</td>\n",
       "    </tr>\n",
       "    <tr>\n",
       "      <th>16642</th>\n",
       "      <td>2.553712</td>\n",
       "      <td>0.054524</td>\n",
       "      <td>-2.126904</td>\n",
       "      <td>0.180558</td>\n",
       "      <td>0.071724</td>\n",
       "      <td>1.874791</td>\n",
       "    </tr>\n",
       "  </tbody>\n",
       "</table>\n",
       "<p>16643 rows × 6 columns</p>\n",
       "</div>"
      ],
      "text/plain": [
       "               0         1          2         3         4         5\n",
       "0     -11.102406 -3.351946  13.946258 -5.287466  6.352366  8.345955\n",
       "1     -10.317006 -1.134406  13.229911 -1.510236  7.235912  5.468038\n",
       "2      -9.944877 -3.964188   9.794007 -3.654410  3.847322  5.334132\n",
       "3       7.500154 -0.404121  11.400309 -5.897020  4.322288  3.404846\n",
       "4     -10.366917 -0.232431  10.235270 -3.728808  2.826677  5.547440\n",
       "...          ...       ...        ...       ...       ...       ...\n",
       "16638   2.399182 -1.178304  -3.058184 -1.229595 -0.671560  2.030578\n",
       "16639   4.818801 -0.878878  -1.731584  3.588766 -0.332065  2.859012\n",
       "16640   2.903125 -3.595729  -3.095183  0.803307  0.905010  2.204880\n",
       "16641   2.881067 -3.318395  -3.232664  1.439010 -0.798542  2.860381\n",
       "16642   2.553712  0.054524  -2.126904  0.180558  0.071724  1.874791\n",
       "\n",
       "[16643 rows x 6 columns]"
      ]
     },
     "execution_count": 9,
     "metadata": {},
     "output_type": "execute_result"
    }
   ],
   "source": [
    "our_components"
   ]
  },
  {
   "cell_type": "code",
   "execution_count": 10,
   "metadata": {},
   "outputs": [
    {
     "name": "stdout",
     "output_type": "stream",
     "text": [
      "[2.11984416e+01 5.26013148e+00 3.89678267e+00 2.16722768e+00\n",
      " 1.33714760e+00 1.25914650e+00 1.01495025e+00 8.39435754e-01\n",
      " 8.36759813e-01 6.70254992e-01 5.27547585e-01 4.34240263e-01\n",
      " 3.56114948e-01 3.21171432e-01 2.94700113e-01 2.83520629e-01\n",
      " 2.61976647e-01 2.47363895e-01 2.37551752e-01 2.25450599e-01\n",
      " 2.10711349e-01 1.98475797e-01 1.97130568e-01 1.84807585e-01\n",
      " 1.74338680e-01 1.53652760e-01 1.32848895e-01 1.24843869e-01\n",
      " 1.21789459e-01 1.16027468e-01 1.02473757e-01 8.71458004e-02\n",
      " 8.16532532e-02 7.16489871e-02 6.70215181e-02 6.44174826e-02\n",
      " 6.00343315e-02 3.72979754e-02 3.68943828e-02 3.06171449e-02\n",
      " 2.99609984e-02 2.61189381e-02 2.27821826e-02 3.45280109e-05]\n",
      "[[-2.56963438e-02  1.63466629e-02 -5.93925219e-02 ...  1.79903547e-01\n",
      "   1.80855118e-01  4.30288550e-02]\n",
      " [ 1.08029205e-01  1.36110811e-03  3.56903213e-02 ... -5.97975368e-02\n",
      "  -6.11569874e-02 -3.73855076e-03]\n",
      " [ 2.77727203e-01 -1.55718741e-01  2.82295106e-01 ...  2.14659557e-01\n",
      "   2.11702911e-01 -1.76048867e-01]\n",
      " ...\n",
      " [ 8.54520662e-04 -8.63682060e-04  9.72142860e-05 ... -2.52818708e-02\n",
      "   7.23984929e-01 -1.85748569e-03]\n",
      " [ 4.44302127e-03 -1.41252484e-03 -9.51786484e-04 ...  4.39881663e-02\n",
      "   2.04080288e-02 -9.71622476e-04]\n",
      " [ 7.07272574e-05  1.56392449e-04 -4.63371736e-06 ...  5.84344174e-02\n",
      "   6.19084716e-02 -3.20793445e-05]]\n"
     ]
    }
   ],
   "source": [
    "eig_values = pca.explained_variance_\n",
    "eig_vectors = pca.components_\n",
    "print(eig_values)\n",
    "print(eig_vectors)"
   ]
  },
  {
   "cell_type": "code",
   "execution_count": null,
   "metadata": {},
   "outputs": [],
   "source": [
    "pc1 = pca.components_[0]\n",
    "pc2 = pca.components_[1]"
   ]
  },
  {
   "cell_type": "code",
   "execution_count": null,
   "metadata": {
    "scrolled": true
   },
   "outputs": [],
   "source": [
    "structure_loading_1 = pc1* np.sqrt(eig_values[0])\n",
    "str_loading_1 = pd.Series(structure_loading_1, index=X.columns)\n",
    "str_loading_1.sort_values(ascending = False)"
   ]
  },
  {
   "cell_type": "code",
   "execution_count": null,
   "metadata": {
    "scrolled": true
   },
   "outputs": [],
   "source": [
    "structure_loading_2 = pc2* np.sqrt(eig_values[1])\n",
    "str_loading_2 = pd.Series(structure_loading_2, index=X.columns)\n",
    "str_loading_2.sort_values(ascending = False)"
   ]
  },
  {
   "cell_type": "code",
   "execution_count": null,
   "metadata": {},
   "outputs": [],
   "source": []
  },
  {
   "cell_type": "code",
   "execution_count": 12,
   "metadata": {},
   "outputs": [],
   "source": [
    "X_train, X_test, y_train, y_test = train_test_split(X, y, test_size=0.33, random_state=42)"
   ]
  },
  {
   "cell_type": "code",
   "execution_count": 13,
   "metadata": {},
   "outputs": [],
   "source": [
    "logreg = LogisticRegression()"
   ]
  },
  {
   "cell_type": "code",
   "execution_count": 14,
   "metadata": {},
   "outputs": [
    {
     "name": "stderr",
     "output_type": "stream",
     "text": [
      "/Users/judebuenaseda/.pyenv/versions/3.8.2/lib/python3.8/site-packages/sklearn/linear_model/_logistic.py:938: ConvergenceWarning: lbfgs failed to converge (status=1):\n",
      "STOP: TOTAL NO. of ITERATIONS REACHED LIMIT.\n",
      "\n",
      "Increase the number of iterations (max_iter) or scale the data as shown in:\n",
      "    https://scikit-learn.org/stable/modules/preprocessing.html\n",
      "Please also refer to the documentation for alternative solver options:\n",
      "    https://scikit-learn.org/stable/modules/linear_model.html#logistic-regression\n",
      "  n_iter_i = _check_optimize_result(\n"
     ]
    },
    {
     "data": {
      "text/plain": [
       "LogisticRegression(C=1.0, class_weight=None, dual=False, fit_intercept=True,\n",
       "                   intercept_scaling=1, l1_ratio=None, max_iter=100,\n",
       "                   multi_class='auto', n_jobs=None, penalty='l2',\n",
       "                   random_state=None, solver='lbfgs', tol=0.0001, verbose=0,\n",
       "                   warm_start=False)"
      ]
     },
     "execution_count": 14,
     "metadata": {},
     "output_type": "execute_result"
    }
   ],
   "source": [
    "logreg.fit(X_train, y_train)"
   ]
  },
  {
   "cell_type": "code",
   "execution_count": 15,
   "metadata": {},
   "outputs": [],
   "source": [
    "y_pred = logreg.predict(X_test)"
   ]
  },
  {
   "cell_type": "code",
   "execution_count": 16,
   "metadata": {},
   "outputs": [
    {
     "data": {
      "text/plain": [
       "0.9493901328964136"
      ]
     },
     "execution_count": 16,
     "metadata": {},
     "output_type": "execute_result"
    }
   ],
   "source": [
    "accuracy_score(y_test, y_pred)"
   ]
  },
  {
   "cell_type": "code",
   "execution_count": null,
   "metadata": {},
   "outputs": [],
   "source": []
  },
  {
   "cell_type": "code",
   "execution_count": 17,
   "metadata": {},
   "outputs": [],
   "source": [
    "X_train_pca, X_test_pca, y_train_pca, y_test_pca = train_test_split(our_components, y, test_size=0.33, random_state=42)"
   ]
  },
  {
   "cell_type": "code",
   "execution_count": 18,
   "metadata": {},
   "outputs": [],
   "source": [
    "logreg_pca = LogisticRegression()"
   ]
  },
  {
   "cell_type": "code",
   "execution_count": 19,
   "metadata": {},
   "outputs": [
    {
     "data": {
      "text/plain": [
       "LogisticRegression(C=1.0, class_weight=None, dual=False, fit_intercept=True,\n",
       "                   intercept_scaling=1, l1_ratio=None, max_iter=100,\n",
       "                   multi_class='auto', n_jobs=None, penalty='l2',\n",
       "                   random_state=None, solver='lbfgs', tol=0.0001, verbose=0,\n",
       "                   warm_start=False)"
      ]
     },
     "execution_count": 19,
     "metadata": {},
     "output_type": "execute_result"
    }
   ],
   "source": [
    "logreg_pca.fit(X_train_pca, y_train_pca)"
   ]
  },
  {
   "cell_type": "code",
   "execution_count": 20,
   "metadata": {},
   "outputs": [],
   "source": [
    "y_pred_pca = logreg_pca.predict(X_test_pca)"
   ]
  },
  {
   "cell_type": "code",
   "execution_count": 67,
   "metadata": {},
   "outputs": [
    {
     "data": {
      "text/plain": [
       "0.9484798834880758"
      ]
     },
     "execution_count": 67,
     "metadata": {},
     "output_type": "execute_result"
    }
   ],
   "source": [
    "accuracy_score(y_test_pca, y_pred_pca)"
   ]
  },
  {
   "cell_type": "markdown",
   "metadata": {},
   "source": [
    "## K-Means Clustering\n"
   ]
  },
  {
   "cell_type": "code",
   "execution_count": 21,
   "metadata": {},
   "outputs": [],
   "source": [
    "### Clustering\n",
    "#K-means clustering details - what are the step by step process of building a K-means model?\n",
    "'''\n",
    "1) Scale the data - euclidean distance is going to be affected by larger values if the data is not scaled\n",
    "2) Initialize centroids at random points \n",
    "3) Assign values to the points corresponding to the closest centroid \n",
    "4) Reassign centroid point based on the mean of all the points within its cluster\n",
    "5) repeat 3 and 4 until centroids stabalize \n",
    "'''"
   ]
  },
  {
   "cell_type": "code",
   "execution_count": 102,
   "metadata": {},
   "outputs": [],
   "source": [
    " #Building K-means model in sklearn\n",
    "from sklearn.cluster import KMeans\n",
    "kmeans = KMeans(n_clusters=3, random_state=0).fit(our_components.values)"
   ]
  },
  {
   "cell_type": "code",
   "execution_count": 103,
   "metadata": {},
   "outputs": [],
   "source": [
    "predicted_clusters = kmeans.predict(our_components.values)"
   ]
  },
  {
   "cell_type": "code",
   "execution_count": 99,
   "metadata": {},
   "outputs": [
    {
     "data": {
      "text/plain": [
       "array([[-11.10240579,  -3.35194611,  13.94625776,  -5.28746579,\n",
       "          6.3523664 ,   8.34595481],\n",
       "       [-10.31700615,  -1.13440639,  13.2299111 ,  -1.51023641,\n",
       "          7.23591158,   5.46803783],\n",
       "       [ -9.94487722,  -3.96418822,   9.7940068 ,  -3.65441022,\n",
       "          3.84732247,   5.33413243],\n",
       "       ...,\n",
       "       [  2.90312534,  -3.59572947,  -3.09518255,   0.80330704,\n",
       "          0.90501004,   2.20488036],\n",
       "       [  2.88106711,  -3.31839517,  -3.23266362,   1.43900996,\n",
       "         -0.79854213,   2.86038066],\n",
       "       [  2.55371186,   0.05452444,  -2.12690361,   0.18055827,\n",
       "          0.07172358,   1.87479059]])"
      ]
     },
     "execution_count": 99,
     "metadata": {},
     "output_type": "execute_result"
    }
   ],
   "source": [
    "our_components.values"
   ]
  },
  {
   "cell_type": "code",
   "execution_count": 100,
   "metadata": {},
   "outputs": [
    {
     "name": "stdout",
     "output_type": "stream",
     "text": [
      "0.3012070955620654\n",
      "3419.5208743520247\n"
     ]
    }
   ],
   "source": [
    "#Evaluating clustering (what are some metrics?)\n",
    "\n",
    "from sklearn.metrics import silhouette_score\n",
    "from sklearn.metrics import calinski_harabasz_score\n",
    "\n",
    "\n",
    "print(silhouette_score(X.values, predicted_clusters))\n",
    "print(calinski_harabasz_score(X.values, predicted_clusters))"
   ]
  },
  {
   "cell_type": "code",
   "execution_count": 104,
   "metadata": {},
   "outputs": [
    {
     "name": "stdout",
     "output_type": "stream",
     "text": [
      "0.30030396676468335\n",
      "13144.698439403559\n"
     ]
    }
   ],
   "source": [
    "print(silhouette_score(our_components.values, predicted_clusters))\n",
    "print(calinski_harabasz_score(our_components.values, predicted_clusters))"
   ]
  },
  {
   "cell_type": "code",
   "execution_count": 96,
   "metadata": {},
   "outputs": [
    {
     "data": {
      "image/png": "[encoded data removed]",
      "text/plain": [
       "<Figure size 432x432 with 1 Axes>"
      ]
     },
     "metadata": {
      "needs_background": "light"
     },
     "output_type": "display_data"
    }
   ],
   "source": [
    "sse = []\n",
    "list_k = list(range(1, 10))\n",
    "for k in list_k:\n",
    "    km = KMeans(n_clusters=k)\n",
    "    km.fit(our_components)\n",
    "    sse.append(km.inertia_)\n",
    "# Plot sse against k\n",
    "plt.figure(figsize=(6, 6))\n",
    "plt.plot(list_k, sse, '-o')\n",
    "plt.xlabel(r'Number of clusters *k*')\n",
    "plt.ylabel('Sum of squared distance');"
   ]
  },
  {
   "cell_type": "code",
   "execution_count": 90,
   "metadata": {},
   "outputs": [],
   "source": [
    "# from sklearn.metrics import homogeneity_score\n",
    "# from sklearn.metrics import v_measure_score\n",
    "\n",
    "# homogeneity_score(X.values.flatten(), predicted_clusters.flatten())\n",
    "# v_measure_score(X.values.flatten(), predicted_clusters.flatten())"
   ]
  },
  {
   "cell_type": "code",
   "execution_count": null,
   "metadata": {},
   "outputs": [],
   "source": []
  }
 ],
 "metadata": {
  "kernelspec": {
   "display_name": "Python 3",
   "language": "python",
   "name": "python3"
  },
  "language_info": {
   "codemirror_mode": {
    "name": "ipython",
    "version": 3
   },
   "file_extension": ".py",
   "mimetype": "text/x-python",
   "name": "python",
   "nbconvert_exporter": "python",
   "pygments_lexer": "ipython3",
   "version": "3.7.4"
  }
 },
 "nbformat": 4,
 "nbformat_minor": 4
}
